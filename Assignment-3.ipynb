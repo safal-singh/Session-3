{
  "nbformat": 4,
  "nbformat_minor": 0,
  "metadata": {
    "colab": {
      "name": "Assignment-3.ipynb",
      "version": "0.3.2",
      "provenance": [],
      "collapsed_sections": []
    },
    "kernelspec": {
      "name": "python3",
      "display_name": "Python 3"
    },
    "accelerator": "GPU"
  },
  "cells": [
    {
      "cell_type": "markdown",
      "metadata": {
        "id": "aNyZv-Ec52ot",
        "colab_type": "text"
      },
      "source": [
        "# **Import Libraries and modules**"
      ]
    },
    {
      "cell_type": "code",
      "metadata": {
        "id": "3m3w1Cw49Zkt",
        "colab_type": "code",
        "outputId": "19bf7277-468e-4182-86ac-207bfd470e85",
        "colab": {
          "base_uri": "https://localhost:8080/",
          "height": 34
        }
      },
      "source": [
        "# Importing keras\n",
        "# https://keras.io/\n",
        "!pip install -q keras\n",
        "import keras"
      ],
      "execution_count": 1,
      "outputs": [
        {
          "output_type": "stream",
          "text": [
            "Using TensorFlow backend.\n"
          ],
          "name": "stderr"
        }
      ]
    },
    {
      "cell_type": "code",
      "metadata": {
        "id": "Eso6UHE080D4",
        "colab_type": "code",
        "colab": {}
      },
      "source": [
        "# Importing required libraries\n",
        "\n",
        "import numpy as np\n",
        "\n",
        "from keras.models import Sequential\n",
        "from keras.layers import BatchNormalization\n",
        "from keras.layers import Dense, Dropout, Activation, Flatten, Add\n",
        "from keras.layers import Convolution2D, MaxPooling2D\n",
        "from keras.utils import np_utils\n",
        "\n",
        "from keras.datasets import mnist"
      ],
      "execution_count": 0,
      "outputs": []
    },
    {
      "cell_type": "markdown",
      "metadata": {
        "id": "zByEi95J86RD",
        "colab_type": "text"
      },
      "source": [
        "### Load pre-shuffled MNIST data into train and test sets"
      ]
    },
    {
      "cell_type": "code",
      "metadata": {
        "id": "7eRM0QWN83PV",
        "colab_type": "code",
        "colab": {
          "base_uri": "https://localhost:8080/",
          "height": 50
        },
        "outputId": "037a4545-0305-4a03-d169-d0772217d296"
      },
      "source": [
        "# Getting the training and test sets from the MNIST dataset available in the datasets module of keras library. The dataset consists of images of digits and their respective labels. \n",
        "(X_train, y_train), (X_test, y_test) = mnist.load_data()"
      ],
      "execution_count": 3,
      "outputs": [
        {
          "output_type": "stream",
          "text": [
            "Downloading data from https://s3.amazonaws.com/img-datasets/mnist.npz\n",
            "11493376/11490434 [==============================] - 2s 0us/step\n"
          ],
          "name": "stdout"
        }
      ]
    },
    {
      "cell_type": "code",
      "metadata": {
        "id": "4a4Be72j8-ZC",
        "colab_type": "code",
        "outputId": "5fef5056-6b63-42a5-883d-f1f4cfbad5b8",
        "colab": {
          "base_uri": "https://localhost:8080/",
          "height": 302
        }
      },
      "source": [
        "print (X_train.shape) # printing the dimensions of image in the training dataset\n",
        "from matplotlib import pyplot as plt # Importing matplotlib.pyplot for plotting data\n",
        "%matplotlib inline # Allows plots to be displayed in notebook mode\n",
        "plt.imshow(X_train[0]) # Printing the first image in the training dataset"
      ],
      "execution_count": 4,
      "outputs": [
        {
          "output_type": "stream",
          "text": [
            "(60000, 28, 28)\n"
          ],
          "name": "stdout"
        },
        {
          "output_type": "execute_result",
          "data": {
            "text/plain": [
              "<matplotlib.image.AxesImage at 0x7fda26420048>"
            ]
          },
          "metadata": {
            "tags": []
          },
          "execution_count": 4
        },
        {
          "output_type": "display_data",
          "data": {
            "image/png": "[encoded data removed]",
            "text/plain": [
              "<Figure size 432x288 with 1 Axes>"
            ]
          },
          "metadata": {
            "tags": []
          }
        }
      ]
    },
    {
      "cell_type": "code",
      "metadata": {
        "id": "dkmprriw9AnZ",
        "colab_type": "code",
        "colab": {}
      },
      "source": [
        "'''Reshaping each image in the training and test sets to have 1 as the third dimension, for the images are grayscale. The third dimesion marks the number of channels, which varies \n",
        "along the convolution pipeline and therefore, the input images need to mention the channel dimension as 1 explicitly. '''\n",
        "\n",
        "X_train = X_train.reshape(X_train.shape[0], 28, 28,1)\n",
        "X_test = X_test.reshape(X_test.shape[0], 28, 28,1)"
      ],
      "execution_count": 0,
      "outputs": []
    },
    {
      "cell_type": "code",
      "metadata": {
        "id": "X2m4YS4E9CRh",
        "colab_type": "code",
        "colab": {}
      },
      "source": [
        "'''Standardizing the train and test set images by min-max normalization. The minimum and maximum pixel values for grayscale images are 0 and 255 respectively. The pixel values are first \n",
        "converted to float, since dividing by 255 would result in all pixel values being zero (integer divided by integer results in an integer, according to type casting rules.\n",
        "\n",
        "Normalization makes the model suited to accept all ranges of pixel values as inputs for the inputs (be it the test or train dataset) would only have pixel values between 0 and 1. If the\n",
        "input is not normalized, the model would always expect images with pixel values in the range 0 to 255 (in this case, the MNIST dataset has 8 bit images)'''\n",
        "\n",
        "X_train = X_train.astype('float32')\n",
        "X_test = X_test.astype('float32')\n",
        "X_train /= 255\n",
        "X_test /= 255"
      ],
      "execution_count": 0,
      "outputs": []
    },
    {
      "cell_type": "code",
      "metadata": {
        "id": "0Mn0vAYD9DvB",
        "colab_type": "code",
        "outputId": "3d73a322-9f7a-4109-f9fe-596457e11706",
        "colab": {
          "base_uri": "https://localhost:8080/",
          "height": 34
        }
      },
      "source": [
        "# The first 10 entries of the training set labels, which only has the class for respective images.\n",
        "y_train[:10]"
      ],
      "execution_count": 7,
      "outputs": [
        {
          "output_type": "execute_result",
          "data": {
            "text/plain": [
              "array([5, 0, 4, 1, 9, 2, 1, 3, 1, 4], dtype=uint8)"
            ]
          },
          "metadata": {
            "tags": []
          },
          "execution_count": 7
        }
      ]
    },
    {
      "cell_type": "code",
      "metadata": {
        "id": "ZG8JiXR39FHC",
        "colab_type": "code",
        "colab": {}
      },
      "source": [
        "# Convert 1-dimensional class arrays to 10-dimensional class matrices, with 1-hot encoding for each class.\n",
        "Y_train = np_utils.to_categorical(y_train, 10)\n",
        "Y_test = np_utils.to_categorical(y_test, 10)"
      ],
      "execution_count": 0,
      "outputs": []
    },
    {
      "cell_type": "code",
      "metadata": {
        "id": "fYlFRvKS9HMB",
        "colab_type": "code",
        "outputId": "2954550b-65b0-4ecb-9a16-ba8878ebe20a",
        "colab": {
          "base_uri": "https://localhost:8080/",
          "height": 185
        }
      },
      "source": [
        "# Now the first 10 entries of the training set labels consists of the 1-hot encoded values for each class, i.e. 1 for the correct class and 0 elsewhere.\n",
        "Y_train[:10]\n"
      ],
      "execution_count": 9,
      "outputs": [
        {
          "output_type": "execute_result",
          "data": {
            "text/plain": [
              "array([[0., 0., 0., 0., 0., 1., 0., 0., 0., 0.],\n",
              "       [1., 0., 0., 0., 0., 0., 0., 0., 0., 0.],\n",
              "       [0., 0., 0., 0., 1., 0., 0., 0., 0., 0.],\n",
              "       [0., 1., 0., 0., 0., 0., 0., 0., 0., 0.],\n",
              "       [0., 0., 0., 0., 0., 0., 0., 0., 0., 1.],\n",
              "       [0., 0., 1., 0., 0., 0., 0., 0., 0., 0.],\n",
              "       [0., 1., 0., 0., 0., 0., 0., 0., 0., 0.],\n",
              "       [0., 0., 0., 1., 0., 0., 0., 0., 0., 0.],\n",
              "       [0., 1., 0., 0., 0., 0., 0., 0., 0., 0.],\n",
              "       [0., 0., 0., 0., 1., 0., 0., 0., 0., 0.]], dtype=float32)"
            ]
          },
          "metadata": {
            "tags": []
          },
          "execution_count": 9
        }
      ]
    },
    {
      "cell_type": "code",
      "metadata": {
        "id": "osKqT73Q9JJB",
        "colab_type": "code",
        "colab": {}
      },
      "source": [
        "from keras.layers import Activation\n",
        "model = Sequential()\n",
        "\n",
        "model.add(BatchNormalization(input_shape=(28,28,1))) \n",
        "model.add(Convolution2D(16, 3, activation='relu', use_bias=False)) # Output=26x26x16, RF = 3x3\n",
        "\n",
        "model.add(BatchNormalization())\n",
        "model.add(Convolution2D(32, 3, activation='relu', use_bias=False)) # Output=24x24x32, RF = 5x5\n",
        "model.add(Dropout(0.4))\n",
        "\n",
        "model.add(BatchNormalization())\n",
        "model.add(Convolution2D(16, 1, activation='relu', use_bias=False)) # Output=24x24x16, RF = 5x5\n",
        "\n",
        "model.add(MaxPooling2D(pool_size=(2,2))) # Output=12x12x16, RF = 10x10\n",
        "\n",
        "model.add(BatchNormalization())\n",
        "model.add(Convolution2D(16, 3, activation='relu', use_bias=False)) # Output=10x10x16, RF = 12x12\n",
        "\n",
        "model.add(BatchNormalization())\n",
        "model.add(Convolution2D(32, 3, activation='relu', use_bias=False)) # Output=8x8x32, RF = 14x14\n",
        "model.add(Dropout(0.4))\n",
        "\n",
        "model.add(BatchNormalization())\n",
        "model.add(Convolution2D(10, 1, activation='relu', use_bias=False)) # Output=8x8x10, RF = 14x14\n",
        "\n",
        "model.add(MaxPooling2D(pool_size=(2,2))) # Output=4x4x10, RF = 28x28\n",
        "\n",
        "model.add(Convolution2D(10, 4, use_bias=False)) # Output=1x1x10, RF = 28x28\n",
        "model.add(Flatten())\n",
        "model.add(Activation('softmax'))"
      ],
      "execution_count": 0,
      "outputs": []
    },
    {
      "cell_type": "code",
      "metadata": {
        "id": "TzdAYg1k9K7Z",
        "colab_type": "code",
        "outputId": "4e06d75f-63af-4dc7-e437-3e83610b49ee",
        "colab": {
          "base_uri": "https://localhost:8080/",
          "height": 773
        }
      },
      "source": [
        "# 14,548 total parameters\n",
        "model.summary()"
      ],
      "execution_count": 56,
      "outputs": [
        {
          "output_type": "stream",
          "text": [
            "_________________________________________________________________\n",
            "Layer (type)                 Output Shape              Param #   \n",
            "=================================================================\n",
            "batch_normalization_82 (Batc (None, 28, 28, 1)         4         \n",
            "_________________________________________________________________\n",
            "conv2d_96 (Conv2D)           (None, 26, 26, 16)        144       \n",
            "_________________________________________________________________\n",
            "batch_normalization_83 (Batc (None, 26, 26, 16)        64        \n",
            "_________________________________________________________________\n",
            "conv2d_97 (Conv2D)           (None, 24, 24, 32)        4608      \n",
            "_________________________________________________________________\n",
            "dropout_7 (Dropout)          (None, 24, 24, 32)        0         \n",
            "_________________________________________________________________\n",
            "batch_normalization_84 (Batc (None, 24, 24, 32)        128       \n",
            "_________________________________________________________________\n",
            "conv2d_98 (Conv2D)           (None, 24, 24, 16)        512       \n",
            "_________________________________________________________________\n",
            "max_pooling2d_15 (MaxPooling (None, 12, 12, 16)        0         \n",
            "_________________________________________________________________\n",
            "batch_normalization_85 (Batc (None, 12, 12, 16)        64        \n",
            "_________________________________________________________________\n",
            "conv2d_99 (Conv2D)           (None, 10, 10, 16)        2304      \n",
            "_________________________________________________________________\n",
            "batch_normalization_86 (Batc (None, 10, 10, 16)        64        \n",
            "_________________________________________________________________\n",
            "conv2d_100 (Conv2D)          (None, 8, 8, 32)          4608      \n",
            "_________________________________________________________________\n",
            "dropout_8 (Dropout)          (None, 8, 8, 32)          0         \n",
            "_________________________________________________________________\n",
            "batch_normalization_87 (Batc (None, 8, 8, 32)          128       \n",
            "_________________________________________________________________\n",
            "conv2d_101 (Conv2D)          (None, 8, 8, 10)          320       \n",
            "_________________________________________________________________\n",
            "max_pooling2d_16 (MaxPooling (None, 4, 4, 10)          0         \n",
            "_________________________________________________________________\n",
            "conv2d_102 (Conv2D)          (None, 1, 1, 10)          1600      \n",
            "_________________________________________________________________\n",
            "flatten_15 (Flatten)         (None, 10)                0         \n",
            "_________________________________________________________________\n",
            "activation_15 (Activation)   (None, 10)                0         \n",
            "=================================================================\n",
            "Total params: 14,548\n",
            "Trainable params: 14,322\n",
            "Non-trainable params: 226\n",
            "_________________________________________________________________\n"
          ],
          "name": "stdout"
        }
      ]
    },
    {
      "cell_type": "code",
      "metadata": {
        "id": "Zp6SuGrL9M3h",
        "colab_type": "code",
        "colab": {}
      },
      "source": [
        "'''Compiling the model with the categorical cross entropy as the loss function (used for classification problems), ADAM optimizer for minimizing the loss and \"accuracy\" as the metric for \n",
        "measuring model correctness.''' \n",
        "\n",
        "model.compile(loss='categorical_crossentropy',\n",
        "             optimizer='adam',\n",
        "             metrics=['accuracy'])"
      ],
      "execution_count": 0,
      "outputs": []
    },
    {
      "cell_type": "code",
      "metadata": {
        "id": "4xWoKhPY9Of5",
        "colab_type": "code",
        "outputId": "4f38e274-a5ab-430f-8db7-d7b36a62059a",
        "colab": {
          "base_uri": "https://localhost:8080/",
          "height": 420
        }
      },
      "source": [
        "'''Running the model with X_train and Y_train as feature and label for classification, batch size as 32, number of epochs as 10 (the number of times model goes through each training image)\n",
        "and verbose=1 for printing the logs.'''\n",
        "\n",
        "model.fit(X_train, Y_train, batch_size=32, nb_epoch=10, verbose=1, validation_data=(X_test, Y_test))"
      ],
      "execution_count": 58,
      "outputs": [
        {
          "output_type": "stream",
          "text": [
            "/usr/local/lib/python3.6/dist-packages/ipykernel_launcher.py:1: UserWarning: The `nb_epoch` argument in `fit` has been renamed `epochs`.\n",
            "  \"\"\"Entry point for launching an IPython kernel.\n"
          ],
          "name": "stderr"
        },
        {
          "output_type": "stream",
          "text": [
            "Train on 60000 samples, validate on 10000 samples\n",
            "Epoch 1/10\n",
            "60000/60000 [==============================] - 23s 380us/step - loss: 0.2377 - acc: 0.9247 - val_loss: 0.1350 - val_acc: 0.9559\n",
            "Epoch 2/10\n",
            "60000/60000 [==============================] - 21s 342us/step - loss: 0.0790 - acc: 0.9751 - val_loss: 0.0553 - val_acc: 0.9824\n",
            "Epoch 3/10\n",
            "60000/60000 [==============================] - 21s 343us/step - loss: 0.0639 - acc: 0.9805 - val_loss: 0.0494 - val_acc: 0.9856\n",
            "Epoch 4/10\n",
            "60000/60000 [==============================] - 20s 334us/step - loss: 0.0546 - acc: 0.9828 - val_loss: 0.0535 - val_acc: 0.9822\n",
            "Epoch 5/10\n",
            "60000/60000 [==============================] - 20s 334us/step - loss: 0.0486 - acc: 0.9847 - val_loss: 0.0395 - val_acc: 0.9877\n",
            "Epoch 6/10\n",
            "60000/60000 [==============================] - 21s 345us/step - loss: 0.0426 - acc: 0.9864 - val_loss: 0.0364 - val_acc: 0.9889\n",
            "Epoch 7/10\n",
            "60000/60000 [==============================] - 21s 342us/step - loss: 0.0400 - acc: 0.9870 - val_loss: 0.0294 - val_acc: 0.9915\n",
            "Epoch 8/10\n",
            "60000/60000 [==============================] - 20s 334us/step - loss: 0.0386 - acc: 0.9878 - val_loss: 0.0386 - val_acc: 0.9866\n",
            "Epoch 9/10\n",
            "60000/60000 [==============================] - 21s 345us/step - loss: 0.0353 - acc: 0.9889 - val_loss: 0.0261 - val_acc: 0.9911\n",
            "Epoch 10/10\n",
            "60000/60000 [==============================] - 21s 349us/step - loss: 0.0341 - acc: 0.9890 - val_loss: 0.0368 - val_acc: 0.9879\n"
          ],
          "name": "stdout"
        },
        {
          "output_type": "execute_result",
          "data": {
            "text/plain": [
              "<keras.callbacks.History at 0x7fd9d8a20518>"
            ]
          },
          "metadata": {
            "tags": []
          },
          "execution_count": 58
        }
      ]
    },
    {
      "cell_type": "code",
      "metadata": {
        "id": "53q4BZ82ezAW",
        "colab_type": "code",
        "colab": {
          "base_uri": "https://localhost:8080/",
          "height": 440
        },
        "outputId": "a43526f0-9d37-4139-fd0f-85d21adb1a99"
      },
      "source": [
        "# Evaluating the model on the test set for getting model correctness.\n",
        "\n",
        "model.fit(X_train, Y_train, batch_size=64, nb_epoch=10, verbose=1, validation_data=(X_test, Y_test))"
      ],
      "execution_count": 59,
      "outputs": [
        {
          "output_type": "stream",
          "text": [
            "Train on 60000 samples, validate on 10000 samples\n",
            "Epoch 1/10\n",
            "  576/60000 [..............................] - ETA: 18s - loss: 0.0231 - acc: 0.9913"
          ],
          "name": "stdout"
        },
        {
          "output_type": "stream",
          "text": [
            "/usr/local/lib/python3.6/dist-packages/ipykernel_launcher.py:1: UserWarning: The `nb_epoch` argument in `fit` has been renamed `epochs`.\n",
            "  \"\"\"Entry point for launching an IPython kernel.\n"
          ],
          "name": "stderr"
        },
        {
          "output_type": "stream",
          "text": [
            "60000/60000 [==============================] - 12s 199us/step - loss: 0.0260 - acc: 0.9917 - val_loss: 0.0245 - val_acc: 0.9924\n",
            "Epoch 2/10\n",
            "60000/60000 [==============================] - 10s 172us/step - loss: 0.0258 - acc: 0.9918 - val_loss: 0.0292 - val_acc: 0.9911\n",
            "Epoch 3/10\n",
            "60000/60000 [==============================] - 10s 171us/step - loss: 0.0255 - acc: 0.9919 - val_loss: 0.0285 - val_acc: 0.9906\n",
            "Epoch 4/10\n",
            "60000/60000 [==============================] - 10s 171us/step - loss: 0.0254 - acc: 0.9917 - val_loss: 0.0276 - val_acc: 0.9915\n",
            "Epoch 5/10\n",
            "60000/60000 [==============================] - 11s 187us/step - loss: 0.0245 - acc: 0.9921 - val_loss: 0.0227 - val_acc: 0.9926\n",
            "Epoch 6/10\n",
            "60000/60000 [==============================] - 10s 174us/step - loss: 0.0236 - acc: 0.9920 - val_loss: 0.0234 - val_acc: 0.9914\n",
            "Epoch 7/10\n",
            "60000/60000 [==============================] - 10s 172us/step - loss: 0.0233 - acc: 0.9930 - val_loss: 0.0282 - val_acc: 0.9900\n",
            "Epoch 8/10\n",
            "60000/60000 [==============================] - 10s 172us/step - loss: 0.0232 - acc: 0.9927 - val_loss: 0.0214 - val_acc: 0.9927\n",
            "Epoch 9/10\n",
            "60000/60000 [==============================] - 10s 172us/step - loss: 0.0227 - acc: 0.9928 - val_loss: 0.0186 - val_acc: 0.9932\n",
            "Epoch 10/10\n",
            "60000/60000 [==============================] - 10s 171us/step - loss: 0.0220 - acc: 0.9928 - val_loss: 0.0236 - val_acc: 0.9920\n"
          ],
          "name": "stdout"
        },
        {
          "output_type": "execute_result",
          "data": {
            "text/plain": [
              "<keras.callbacks.History at 0x7fd9d80d8f28>"
            ]
          },
          "metadata": {
            "tags": []
          },
          "execution_count": 59
        }
      ]
    },
    {
      "cell_type": "code",
      "metadata": {
        "id": "YCNwt7bDiYIr",
        "colab_type": "code",
        "colab": {
          "base_uri": "https://localhost:8080/",
          "height": 440
        },
        "outputId": "eecea2c4-db7e-4d2f-ba42-3c4420d30548"
      },
      "source": [
        "model.fit(X_train, Y_train, batch_size=32, nb_epoch=10, verbose=1, validation_data=(X_test, Y_test))"
      ],
      "execution_count": 60,
      "outputs": [
        {
          "output_type": "stream",
          "text": [
            "Train on 60000 samples, validate on 10000 samples\n",
            "Epoch 1/10\n",
            "  512/60000 [..............................] - ETA: 21s - loss: 0.0248 - acc: 0.9883"
          ],
          "name": "stdout"
        },
        {
          "output_type": "stream",
          "text": [
            "/usr/local/lib/python3.6/dist-packages/ipykernel_launcher.py:1: UserWarning: The `nb_epoch` argument in `fit` has been renamed `epochs`.\n",
            "  \"\"\"Entry point for launching an IPython kernel.\n"
          ],
          "name": "stderr"
        },
        {
          "output_type": "stream",
          "text": [
            "60000/60000 [==============================] - 20s 332us/step - loss: 0.0275 - acc: 0.9911 - val_loss: 0.0225 - val_acc: 0.9926\n",
            "Epoch 2/10\n",
            "60000/60000 [==============================] - 20s 334us/step - loss: 0.0257 - acc: 0.9916 - val_loss: 0.0312 - val_acc: 0.9906\n",
            "Epoch 3/10\n",
            "60000/60000 [==============================] - 21s 354us/step - loss: 0.0249 - acc: 0.9920 - val_loss: 0.0258 - val_acc: 0.9922\n",
            "Epoch 4/10\n",
            "60000/60000 [==============================] - 20s 334us/step - loss: 0.0246 - acc: 0.9921 - val_loss: 0.0218 - val_acc: 0.9926\n",
            "Epoch 5/10\n",
            "60000/60000 [==============================] - 21s 346us/step - loss: 0.0227 - acc: 0.9923 - val_loss: 0.0231 - val_acc: 0.9929\n",
            "Epoch 6/10\n",
            "60000/60000 [==============================] - 20s 333us/step - loss: 0.0237 - acc: 0.9921 - val_loss: 0.0219 - val_acc: 0.9930\n",
            "Epoch 7/10\n",
            "60000/60000 [==============================] - 21s 353us/step - loss: 0.0220 - acc: 0.9932 - val_loss: 0.0200 - val_acc: 0.9931\n",
            "Epoch 8/10\n",
            "60000/60000 [==============================] - 21s 354us/step - loss: 0.0229 - acc: 0.9923 - val_loss: 0.0240 - val_acc: 0.9923\n",
            "Epoch 9/10\n",
            "60000/60000 [==============================] - 20s 339us/step - loss: 0.0213 - acc: 0.9932 - val_loss: 0.0235 - val_acc: 0.9926\n",
            "Epoch 10/10\n",
            "60000/60000 [==============================] - 20s 333us/step - loss: 0.0213 - acc: 0.9927 - val_loss: 0.0216 - val_acc: 0.9931\n"
          ],
          "name": "stdout"
        },
        {
          "output_type": "execute_result",
          "data": {
            "text/plain": [
              "<keras.callbacks.History at 0x7fd9d8b79e80>"
            ]
          },
          "metadata": {
            "tags": []
          },
          "execution_count": 60
        }
      ]
    },
    {
      "cell_type": "code",
      "metadata": {
        "id": "axYfmFGpjQog",
        "colab_type": "code",
        "colab": {
          "base_uri": "https://localhost:8080/",
          "height": 440
        },
        "outputId": "1f5825ca-1bf8-43c4-a119-09021bba9c92"
      },
      "source": [
        "model.fit(X_train, Y_train, batch_size=32, nb_epoch=10, verbose=1, validation_data=(X_test, Y_test))"
      ],
      "execution_count": 61,
      "outputs": [
        {
          "output_type": "stream",
          "text": [
            "Train on 60000 samples, validate on 10000 samples\n",
            "Epoch 1/10\n",
            "  480/60000 [..............................] - ETA: 23s - loss: 0.0293 - acc: 0.9875"
          ],
          "name": "stdout"
        },
        {
          "output_type": "stream",
          "text": [
            "/usr/local/lib/python3.6/dist-packages/ipykernel_launcher.py:1: UserWarning: The `nb_epoch` argument in `fit` has been renamed `epochs`.\n",
            "  \"\"\"Entry point for launching an IPython kernel.\n"
          ],
          "name": "stderr"
        },
        {
          "output_type": "stream",
          "text": [
            "60000/60000 [==============================] - 20s 335us/step - loss: 0.0221 - acc: 0.9929 - val_loss: 0.0220 - val_acc: 0.9916\n",
            "Epoch 2/10\n",
            "60000/60000 [==============================] - 20s 333us/step - loss: 0.0193 - acc: 0.9936 - val_loss: 0.0193 - val_acc: 0.9936\n",
            "Epoch 3/10\n",
            "60000/60000 [==============================] - 20s 334us/step - loss: 0.0205 - acc: 0.9933 - val_loss: 0.0205 - val_acc: 0.9937\n",
            "Epoch 4/10\n",
            "60000/60000 [==============================] - 21s 346us/step - loss: 0.0211 - acc: 0.9928 - val_loss: 0.0221 - val_acc: 0.9933\n",
            "Epoch 5/10\n",
            "60000/60000 [==============================] - 19s 325us/step - loss: 0.0200 - acc: 0.9933 - val_loss: 0.0188 - val_acc: 0.9936\n",
            "Epoch 6/10\n",
            "60000/60000 [==============================] - 20s 325us/step - loss: 0.0210 - acc: 0.9929 - val_loss: 0.0216 - val_acc: 0.9928\n",
            "Epoch 7/10\n",
            "60000/60000 [==============================] - 19s 324us/step - loss: 0.0197 - acc: 0.9934 - val_loss: 0.0190 - val_acc: 0.9938\n",
            "Epoch 8/10\n",
            "60000/60000 [==============================] - 21s 347us/step - loss: 0.0188 - acc: 0.9937 - val_loss: 0.0248 - val_acc: 0.9915\n",
            "Epoch 9/10\n",
            "60000/60000 [==============================] - 20s 338us/step - loss: 0.0187 - acc: 0.9940 - val_loss: 0.0179 - val_acc: 0.9942\n",
            "Epoch 10/10\n",
            "60000/60000 [==============================] - 19s 324us/step - loss: 0.0189 - acc: 0.9936 - val_loss: 0.0261 - val_acc: 0.9913\n"
          ],
          "name": "stdout"
        },
        {
          "output_type": "execute_result",
          "data": {
            "text/plain": [
              "<keras.callbacks.History at 0x7fd9d91e43c8>"
            ]
          },
          "metadata": {
            "tags": []
          },
          "execution_count": 61
        }
      ]
    },
    {
      "cell_type": "code",
      "metadata": {
        "id": "Hp1Cv1JOr_Z8",
        "colab_type": "code",
        "colab": {
          "base_uri": "https://localhost:8080/",
          "height": 609
        },
        "outputId": "da86e584-e268-44d2-bfc2-0717039ed80f"
      },
      "source": [
        "model.fit(X_train, Y_train, batch_size=32, nb_epoch=10, verbose=1, validation_data=(X_test, Y_test))"
      ],
      "execution_count": 64,
      "outputs": [
        {
          "output_type": "stream",
          "text": [
            "Train on 60000 samples, validate on 10000 samples\n",
            "Epoch 1/10\n",
            "  512/60000 [..............................] - ETA: 21s - loss: 0.0064 - acc: 1.0000"
          ],
          "name": "stdout"
        },
        {
          "output_type": "stream",
          "text": [
            "/usr/local/lib/python3.6/dist-packages/ipykernel_launcher.py:1: UserWarning: The `nb_epoch` argument in `fit` has been renamed `epochs`.\n",
            "  \"\"\"Entry point for launching an IPython kernel.\n"
          ],
          "name": "stderr"
        },
        {
          "output_type": "stream",
          "text": [
            "60000/60000 [==============================] - 19s 323us/step - loss: 0.0181 - acc: 0.9944 - val_loss: 0.0223 - val_acc: 0.9929\n",
            "Epoch 2/10\n",
            "60000/60000 [==============================] - 19s 324us/step - loss: 0.0194 - acc: 0.9935 - val_loss: 0.0191 - val_acc: 0.9939\n",
            "Epoch 3/10\n",
            "60000/60000 [==============================] - 21s 346us/step - loss: 0.0177 - acc: 0.9940 - val_loss: 0.0218 - val_acc: 0.9932\n",
            "Epoch 4/10\n",
            "60000/60000 [==============================] - 20s 325us/step - loss: 0.0178 - acc: 0.9944 - val_loss: 0.0249 - val_acc: 0.9916\n",
            "Epoch 5/10\n",
            "60000/60000 [==============================] - 20s 325us/step - loss: 0.0173 - acc: 0.9940 - val_loss: 0.0293 - val_acc: 0.9898\n",
            "Epoch 6/10\n",
            "60000/60000 [==============================] - 19s 324us/step - loss: 0.0167 - acc: 0.9945 - val_loss: 0.0208 - val_acc: 0.9941\n",
            "Epoch 7/10\n",
            "17024/60000 [=======>......................] - ETA: 13s - loss: 0.0185 - acc: 0.9942"
          ],
          "name": "stdout"
        },
        {
          "output_type": "error",
          "ename": "KeyboardInterrupt",
          "evalue": "ignored",
          "traceback": [
            "\u001b[0;31m---------------------------------------------------------------------------\u001b[0m",
            "\u001b[0;31mKeyboardInterrupt\u001b[0m                         Traceback (most recent call last)",
            "\u001b[0;32m<ipython-input-64-c2e613883496>\u001b[0m in \u001b[0;36m<module>\u001b[0;34m()\u001b[0m\n\u001b[0;32m----> 1\u001b[0;31m \u001b[0mmodel\u001b[0m\u001b[0;34m.\u001b[0m\u001b[0mfit\u001b[0m\u001b[0;34m(\u001b[0m\u001b[0mX_train\u001b[0m\u001b[0;34m,\u001b[0m \u001b[0mY_train\u001b[0m\u001b[0;34m,\u001b[0m \u001b[0mbatch_size\u001b[0m\u001b[0;34m=\u001b[0m\u001b[0;36m32\u001b[0m\u001b[0;34m,\u001b[0m \u001b[0mnb_epoch\u001b[0m\u001b[0;34m=\u001b[0m\u001b[0;36m10\u001b[0m\u001b[0;34m,\u001b[0m \u001b[0mverbose\u001b[0m\u001b[0;34m=\u001b[0m\u001b[0;36m1\u001b[0m\u001b[0;34m,\u001b[0m \u001b[0mvalidation_data\u001b[0m\u001b[0;34m=\u001b[0m\u001b[0;34m(\u001b[0m\u001b[0mX_test\u001b[0m\u001b[0;34m,\u001b[0m \u001b[0mY_test\u001b[0m\u001b[0;34m)\u001b[0m\u001b[0;34m)\u001b[0m\u001b[0;34m\u001b[0m\u001b[0;34m\u001b[0m\u001b[0m\n\u001b[0m",
            "\u001b[0;32m/usr/local/lib/python3.6/dist-packages/keras/engine/training.py\u001b[0m in \u001b[0;36mfit\u001b[0;34m(self, x, y, batch_size, epochs, verbose, callbacks, validation_split, validation_data, shuffle, class_weight, sample_weight, initial_epoch, steps_per_epoch, validation_steps, **kwargs)\u001b[0m\n\u001b[1;32m   1037\u001b[0m                                         \u001b[0minitial_epoch\u001b[0m\u001b[0;34m=\u001b[0m\u001b[0minitial_epoch\u001b[0m\u001b[0;34m,\u001b[0m\u001b[0;34m\u001b[0m\u001b[0;34m\u001b[0m\u001b[0m\n\u001b[1;32m   1038\u001b[0m                                         \u001b[0msteps_per_epoch\u001b[0m\u001b[0;34m=\u001b[0m\u001b[0msteps_per_epoch\u001b[0m\u001b[0;34m,\u001b[0m\u001b[0;34m\u001b[0m\u001b[0;34m\u001b[0m\u001b[0m\n\u001b[0;32m-> 1039\u001b[0;31m                                         validation_steps=validation_steps)\n\u001b[0m\u001b[1;32m   1040\u001b[0m \u001b[0;34m\u001b[0m\u001b[0m\n\u001b[1;32m   1041\u001b[0m     def evaluate(self, x=None, y=None,\n",
            "\u001b[0;32m/usr/local/lib/python3.6/dist-packages/keras/engine/training_arrays.py\u001b[0m in \u001b[0;36mfit_loop\u001b[0;34m(model, f, ins, out_labels, batch_size, epochs, verbose, callbacks, val_f, val_ins, shuffle, callback_metrics, initial_epoch, steps_per_epoch, validation_steps)\u001b[0m\n\u001b[1;32m    197\u001b[0m                     \u001b[0mins_batch\u001b[0m\u001b[0;34m[\u001b[0m\u001b[0mi\u001b[0m\u001b[0;34m]\u001b[0m \u001b[0;34m=\u001b[0m \u001b[0mins_batch\u001b[0m\u001b[0;34m[\u001b[0m\u001b[0mi\u001b[0m\u001b[0;34m]\u001b[0m\u001b[0;34m.\u001b[0m\u001b[0mtoarray\u001b[0m\u001b[0;34m(\u001b[0m\u001b[0;34m)\u001b[0m\u001b[0;34m\u001b[0m\u001b[0;34m\u001b[0m\u001b[0m\n\u001b[1;32m    198\u001b[0m \u001b[0;34m\u001b[0m\u001b[0m\n\u001b[0;32m--> 199\u001b[0;31m                 \u001b[0mouts\u001b[0m \u001b[0;34m=\u001b[0m \u001b[0mf\u001b[0m\u001b[0;34m(\u001b[0m\u001b[0mins_batch\u001b[0m\u001b[0;34m)\u001b[0m\u001b[0;34m\u001b[0m\u001b[0;34m\u001b[0m\u001b[0m\n\u001b[0m\u001b[1;32m    200\u001b[0m                 \u001b[0mouts\u001b[0m \u001b[0;34m=\u001b[0m \u001b[0mto_list\u001b[0m\u001b[0;34m(\u001b[0m\u001b[0mouts\u001b[0m\u001b[0;34m)\u001b[0m\u001b[0;34m\u001b[0m\u001b[0;34m\u001b[0m\u001b[0m\n\u001b[1;32m    201\u001b[0m                 \u001b[0;32mfor\u001b[0m \u001b[0ml\u001b[0m\u001b[0;34m,\u001b[0m \u001b[0mo\u001b[0m \u001b[0;32min\u001b[0m \u001b[0mzip\u001b[0m\u001b[0;34m(\u001b[0m\u001b[0mout_labels\u001b[0m\u001b[0;34m,\u001b[0m \u001b[0mouts\u001b[0m\u001b[0;34m)\u001b[0m\u001b[0;34m:\u001b[0m\u001b[0;34m\u001b[0m\u001b[0;34m\u001b[0m\u001b[0m\n",
            "\u001b[0;32m/usr/local/lib/python3.6/dist-packages/keras/backend/tensorflow_backend.py\u001b[0m in \u001b[0;36m__call__\u001b[0;34m(self, inputs)\u001b[0m\n\u001b[1;32m   2713\u001b[0m                 \u001b[0;32mreturn\u001b[0m \u001b[0mself\u001b[0m\u001b[0;34m.\u001b[0m\u001b[0m_legacy_call\u001b[0m\u001b[0;34m(\u001b[0m\u001b[0minputs\u001b[0m\u001b[0;34m)\u001b[0m\u001b[0;34m\u001b[0m\u001b[0;34m\u001b[0m\u001b[0m\n\u001b[1;32m   2714\u001b[0m \u001b[0;34m\u001b[0m\u001b[0m\n\u001b[0;32m-> 2715\u001b[0;31m             \u001b[0;32mreturn\u001b[0m \u001b[0mself\u001b[0m\u001b[0;34m.\u001b[0m\u001b[0m_call\u001b[0m\u001b[0;34m(\u001b[0m\u001b[0minputs\u001b[0m\u001b[0;34m)\u001b[0m\u001b[0;34m\u001b[0m\u001b[0;34m\u001b[0m\u001b[0m\n\u001b[0m\u001b[1;32m   2716\u001b[0m         \u001b[0;32melse\u001b[0m\u001b[0;34m:\u001b[0m\u001b[0;34m\u001b[0m\u001b[0;34m\u001b[0m\u001b[0m\n\u001b[1;32m   2717\u001b[0m             \u001b[0;32mif\u001b[0m \u001b[0mpy_any\u001b[0m\u001b[0;34m(\u001b[0m\u001b[0mis_tensor\u001b[0m\u001b[0;34m(\u001b[0m\u001b[0mx\u001b[0m\u001b[0;34m)\u001b[0m \u001b[0;32mfor\u001b[0m \u001b[0mx\u001b[0m \u001b[0;32min\u001b[0m \u001b[0minputs\u001b[0m\u001b[0;34m)\u001b[0m\u001b[0;34m:\u001b[0m\u001b[0;34m\u001b[0m\u001b[0;34m\u001b[0m\u001b[0m\n",
            "\u001b[0;32m/usr/local/lib/python3.6/dist-packages/keras/backend/tensorflow_backend.py\u001b[0m in \u001b[0;36m_call\u001b[0;34m(self, inputs)\u001b[0m\n\u001b[1;32m   2673\u001b[0m             \u001b[0mfetched\u001b[0m \u001b[0;34m=\u001b[0m \u001b[0mself\u001b[0m\u001b[0;34m.\u001b[0m\u001b[0m_callable_fn\u001b[0m\u001b[0;34m(\u001b[0m\u001b[0;34m*\u001b[0m\u001b[0marray_vals\u001b[0m\u001b[0;34m,\u001b[0m \u001b[0mrun_metadata\u001b[0m\u001b[0;34m=\u001b[0m\u001b[0mself\u001b[0m\u001b[0;34m.\u001b[0m\u001b[0mrun_metadata\u001b[0m\u001b[0;34m)\u001b[0m\u001b[0;34m\u001b[0m\u001b[0;34m\u001b[0m\u001b[0m\n\u001b[1;32m   2674\u001b[0m         \u001b[0;32melse\u001b[0m\u001b[0;34m:\u001b[0m\u001b[0;34m\u001b[0m\u001b[0;34m\u001b[0m\u001b[0m\n\u001b[0;32m-> 2675\u001b[0;31m             \u001b[0mfetched\u001b[0m \u001b[0;34m=\u001b[0m \u001b[0mself\u001b[0m\u001b[0;34m.\u001b[0m\u001b[0m_callable_fn\u001b[0m\u001b[0;34m(\u001b[0m\u001b[0;34m*\u001b[0m\u001b[0marray_vals\u001b[0m\u001b[0;34m)\u001b[0m\u001b[0;34m\u001b[0m\u001b[0;34m\u001b[0m\u001b[0m\n\u001b[0m\u001b[1;32m   2676\u001b[0m         \u001b[0;32mreturn\u001b[0m \u001b[0mfetched\u001b[0m\u001b[0;34m[\u001b[0m\u001b[0;34m:\u001b[0m\u001b[0mlen\u001b[0m\u001b[0;34m(\u001b[0m\u001b[0mself\u001b[0m\u001b[0;34m.\u001b[0m\u001b[0moutputs\u001b[0m\u001b[0;34m)\u001b[0m\u001b[0;34m]\u001b[0m\u001b[0;34m\u001b[0m\u001b[0;34m\u001b[0m\u001b[0m\n\u001b[1;32m   2677\u001b[0m \u001b[0;34m\u001b[0m\u001b[0m\n",
            "\u001b[0;32m/usr/local/lib/python3.6/dist-packages/tensorflow/python/client/session.py\u001b[0m in \u001b[0;36m__call__\u001b[0;34m(self, *args, **kwargs)\u001b[0m\n\u001b[1;32m   1437\u001b[0m           ret = tf_session.TF_SessionRunCallable(\n\u001b[1;32m   1438\u001b[0m               \u001b[0mself\u001b[0m\u001b[0;34m.\u001b[0m\u001b[0m_session\u001b[0m\u001b[0;34m.\u001b[0m\u001b[0m_session\u001b[0m\u001b[0;34m,\u001b[0m \u001b[0mself\u001b[0m\u001b[0;34m.\u001b[0m\u001b[0m_handle\u001b[0m\u001b[0;34m,\u001b[0m \u001b[0margs\u001b[0m\u001b[0;34m,\u001b[0m \u001b[0mstatus\u001b[0m\u001b[0;34m,\u001b[0m\u001b[0;34m\u001b[0m\u001b[0;34m\u001b[0m\u001b[0m\n\u001b[0;32m-> 1439\u001b[0;31m               run_metadata_ptr)\n\u001b[0m\u001b[1;32m   1440\u001b[0m         \u001b[0;32mif\u001b[0m \u001b[0mrun_metadata\u001b[0m\u001b[0;34m:\u001b[0m\u001b[0;34m\u001b[0m\u001b[0;34m\u001b[0m\u001b[0m\n\u001b[1;32m   1441\u001b[0m           \u001b[0mproto_data\u001b[0m \u001b[0;34m=\u001b[0m \u001b[0mtf_session\u001b[0m\u001b[0;34m.\u001b[0m\u001b[0mTF_GetBuffer\u001b[0m\u001b[0;34m(\u001b[0m\u001b[0mrun_metadata_ptr\u001b[0m\u001b[0;34m)\u001b[0m\u001b[0;34m\u001b[0m\u001b[0;34m\u001b[0m\u001b[0m\n",
            "\u001b[0;31mKeyboardInterrupt\u001b[0m: "
          ]
        }
      ]
    },
    {
      "cell_type": "code",
      "metadata": {
        "id": "AtsH-lLk-eLb",
        "colab_type": "code",
        "colab": {}
      },
      "source": [
        "score = model.evaluate(X_test, Y_test, verbose=0)"
      ],
      "execution_count": 0,
      "outputs": []
    },
    {
      "cell_type": "code",
      "metadata": {
        "id": "mkX8JMv79q9r",
        "colab_type": "code",
        "outputId": "1c3d0c69-0a80-4651-cfcc-247e774b4068",
        "colab": {
          "base_uri": "https://localhost:8080/",
          "height": 34
        }
      },
      "source": [
        "print(score)"
      ],
      "execution_count": 66,
      "outputs": [
        {
          "output_type": "stream",
          "text": [
            "[0.018470604710874614, 0.9947]\n"
          ],
          "name": "stdout"
        }
      ]
    },
    {
      "cell_type": "code",
      "metadata": {
        "id": "OCWoJkwE9suh",
        "colab_type": "code",
        "colab": {}
      },
      "source": [
        "y_pred = model.predict(X_test)"
      ],
      "execution_count": 0,
      "outputs": []
    },
    {
      "cell_type": "code",
      "metadata": {
        "id": "Ym7iCFBm9uBs",
        "colab_type": "code",
        "outputId": "7367d6f4-b53e-49c8-a239-cd066fa20b40",
        "colab": {
          "base_uri": "https://localhost:8080/",
          "height": 336
        }
      },
      "source": [
        "print(y_pred[:9])\n",
        "print(y_test[:9])"
      ],
      "execution_count": 68,
      "outputs": [
        {
          "output_type": "stream",
          "text": [
            "[[7.2039232e-12 9.3590136e-10 1.4608558e-07 3.4334438e-08 4.8077275e-11\n",
            "  1.4920208e-10 4.1574227e-16 9.9999964e-01 4.8544333e-12 1.3142569e-07]\n",
            " [1.3109469e-06 2.9376324e-06 9.9999511e-01 2.2755945e-08 6.2481263e-08\n",
            "  3.2164725e-13 2.7964997e-08 2.9951704e-07 2.0880090e-07 3.1779235e-11]\n",
            " [2.2908191e-06 9.9984729e-01 6.6366379e-06 3.6481893e-08 9.4566807e-05\n",
            "  3.2635892e-06 1.9942723e-05 1.7713675e-05 7.4270838e-06 7.5985253e-07]\n",
            " [9.9996448e-01 5.1290128e-15 3.7166995e-08 4.7988119e-10 2.9971987e-11\n",
            "  9.2050758e-09 3.2492928e-05 6.6283659e-11 2.7371666e-06 2.4597617e-07]\n",
            " [1.1693954e-08 2.5254858e-09 2.1593706e-10 3.7289432e-11 9.9997401e-01\n",
            "  1.1156332e-10 1.2163356e-09 7.2995404e-10 7.3909767e-08 2.5936766e-05]\n",
            " [2.1799229e-07 9.9955767e-01 1.7690675e-06 5.2143783e-09 1.2122360e-04\n",
            "  2.2962288e-08 1.4819972e-06 3.1212068e-04 3.7226785e-06 1.7277591e-06]\n",
            " [3.5006364e-15 3.1116806e-06 6.7385003e-10 3.8583503e-13 9.9999607e-01\n",
            "  2.1367447e-10 3.8418619e-14 7.6133482e-08 1.2610972e-09 7.4279870e-07]\n",
            " [2.4251148e-12 2.2343507e-12 3.2662433e-07 4.7707942e-08 9.6928555e-04\n",
            "  1.1271483e-09 4.4060122e-13 2.3726305e-09 9.2435903e-07 9.9902940e-01]\n",
            " [1.0779369e-07 2.3916062e-12 2.5055982e-08 3.0022598e-08 3.1562357e-11\n",
            "  9.9906415e-01 3.3123745e-04 9.1846051e-13 6.0448825e-04 1.0762953e-07]]\n",
            "[7 2 1 0 4 1 4 9 5]\n"
          ],
          "name": "stdout"
        }
      ]
    },
    {
      "cell_type": "code",
      "metadata": {
        "id": "CT--y98_dr2T",
        "colab_type": "code",
        "colab": {}
      },
      "source": [
        "layer_dict = dict([(layer.name, layer) for layer in model.layers])"
      ],
      "execution_count": 0,
      "outputs": []
    },
    {
      "cell_type": "code",
      "metadata": {
        "id": "2GY4Upv4dsUR",
        "colab_type": "code",
        "outputId": "5efe248b-85ac-4880-8e26-a2daaa363174",
        "colab": {
          "base_uri": "https://localhost:8080/",
          "height": 313
        }
      },
      "source": [
        "import numpy as np\n",
        "from matplotlib import pyplot as plt\n",
        "from keras import backend as K\n",
        "%matplotlib inline\n",
        "# util function to convert a tensor into a valid image\n",
        "def deprocess_image(x):\n",
        "    # normalize tensor: center on 0., ensure std is 0.1\n",
        "    x -= x.mean()\n",
        "    x /= (x.std() + 1e-5)\n",
        "    x *= 0.1\n",
        "\n",
        "    # clip to [0, 1]\n",
        "    x += 0.5\n",
        "    x = np.clip(x, 0, 1)\n",
        "\n",
        "    # convert to RGB array\n",
        "    x *= 255\n",
        "    #x = x.transpose((1, 2, 0))\n",
        "    x = np.clip(x, 0, 255).astype('uint8')\n",
        "    return x\n",
        "\n",
        "def vis_img_in_filter(img = np.array(X_train[2]).reshape((1, 28, 28, 1)).astype(np.float64), \n",
        "                      layer_name = 'conv2d_14'):\n",
        "    layer_output = layer_dict[layer_name].output\n",
        "    img_ascs = list()\n",
        "    for filter_index in range(layer_output.shape[3]):\n",
        "        # build a loss function that maximizes the activation\n",
        "        # of the nth filter of the layer considered\n",
        "        loss = K.mean(layer_output[:, :, :, filter_index])\n",
        "\n",
        "        # compute the gradient of the input picture wrt this loss\n",
        "        grads = K.gradients(loss, model.input)[0]\n",
        "\n",
        "        # normalization trick: we normalize the gradient\n",
        "        grads /= (K.sqrt(K.mean(K.square(grads))) + 1e-5)\n",
        "\n",
        "        # this function returns the loss and grads given the input picture\n",
        "        iterate = K.function([model.input], [loss, grads])\n",
        "\n",
        "        # step size for gradient ascent\n",
        "        step = 5.\n",
        "\n",
        "        img_asc = np.array(img)\n",
        "        # run gradient ascent for 20 steps\n",
        "        for i in range(20):\n",
        "            loss_value, grads_value = iterate([img_asc])\n",
        "            img_asc += grads_value * step\n",
        "\n",
        "        img_asc = img_asc[0]\n",
        "        img_ascs.append(deprocess_image(img_asc).reshape((28, 28)))\n",
        "        \n",
        "    if layer_output.shape[3] >= 35:\n",
        "        plot_x, plot_y = 6, 6\n",
        "    elif layer_output.shape[3] >= 23:\n",
        "        plot_x, plot_y = 4, 6\n",
        "    elif layer_output.shape[3] >= 11:\n",
        "        plot_x, plot_y = 2, 6\n",
        "    else:\n",
        "        plot_x, plot_y = 1, 2\n",
        "    fig, ax = plt.subplots(plot_x, plot_y, figsize = (12, 12))\n",
        "    ax[0, 0].imshow(img.reshape((28, 28)), cmap = 'gray')\n",
        "    ax[0, 0].set_title('Input image')\n",
        "    fig.suptitle('Input image and %s filters' % (layer_name,))\n",
        "    fig.tight_layout(pad = 0.3, rect = [0, 0, 0.9, 0.9])\n",
        "    for (x, y) in [(i, j) for i in range(plot_x) for j in range(plot_y)]:\n",
        "        if x == 0 and y == 0:\n",
        "            continue\n",
        "        ax[x, y].imshow(img_ascs[x * plot_y + y - 1], cmap = 'gray')\n",
        "        ax[x, y].set_title('filter %d' % (x * plot_y + y - 1))\n",
        "\n",
        "vis_img_in_filter()"
      ],
      "execution_count": 70,
      "outputs": [
        {
          "output_type": "error",
          "ename": "KeyError",
          "evalue": "ignored",
          "traceback": [
            "\u001b[0;31m---------------------------------------------------------------------------\u001b[0m",
            "\u001b[0;31mKeyError\u001b[0m                                  Traceback (most recent call last)",
            "\u001b[0;32m<ipython-input-70-19229f66b51a>\u001b[0m in \u001b[0;36m<module>\u001b[0;34m()\u001b[0m\n\u001b[1;32m     69\u001b[0m         \u001b[0max\u001b[0m\u001b[0;34m[\u001b[0m\u001b[0mx\u001b[0m\u001b[0;34m,\u001b[0m \u001b[0my\u001b[0m\u001b[0;34m]\u001b[0m\u001b[0;34m.\u001b[0m\u001b[0mset_title\u001b[0m\u001b[0;34m(\u001b[0m\u001b[0;34m'filter %d'\u001b[0m \u001b[0;34m%\u001b[0m \u001b[0;34m(\u001b[0m\u001b[0mx\u001b[0m \u001b[0;34m*\u001b[0m \u001b[0mplot_y\u001b[0m \u001b[0;34m+\u001b[0m \u001b[0my\u001b[0m \u001b[0;34m-\u001b[0m \u001b[0;36m1\u001b[0m\u001b[0;34m)\u001b[0m\u001b[0;34m)\u001b[0m\u001b[0;34m\u001b[0m\u001b[0;34m\u001b[0m\u001b[0m\n\u001b[1;32m     70\u001b[0m \u001b[0;34m\u001b[0m\u001b[0m\n\u001b[0;32m---> 71\u001b[0;31m \u001b[0mvis_img_in_filter\u001b[0m\u001b[0;34m(\u001b[0m\u001b[0;34m)\u001b[0m\u001b[0;34m\u001b[0m\u001b[0;34m\u001b[0m\u001b[0m\n\u001b[0m",
            "\u001b[0;32m<ipython-input-70-19229f66b51a>\u001b[0m in \u001b[0;36mvis_img_in_filter\u001b[0;34m(img, layer_name)\u001b[0m\n\u001b[1;32m     22\u001b[0m def vis_img_in_filter(img = np.array(X_train[2]).reshape((1, 28, 28, 1)).astype(np.float64), \n\u001b[1;32m     23\u001b[0m                       layer_name = 'conv2d_14'):\n\u001b[0;32m---> 24\u001b[0;31m     \u001b[0mlayer_output\u001b[0m \u001b[0;34m=\u001b[0m \u001b[0mlayer_dict\u001b[0m\u001b[0;34m[\u001b[0m\u001b[0mlayer_name\u001b[0m\u001b[0;34m]\u001b[0m\u001b[0;34m.\u001b[0m\u001b[0moutput\u001b[0m\u001b[0;34m\u001b[0m\u001b[0;34m\u001b[0m\u001b[0m\n\u001b[0m\u001b[1;32m     25\u001b[0m     \u001b[0mimg_ascs\u001b[0m \u001b[0;34m=\u001b[0m \u001b[0mlist\u001b[0m\u001b[0;34m(\u001b[0m\u001b[0;34m)\u001b[0m\u001b[0;34m\u001b[0m\u001b[0;34m\u001b[0m\u001b[0m\n\u001b[1;32m     26\u001b[0m     \u001b[0;32mfor\u001b[0m \u001b[0mfilter_index\u001b[0m \u001b[0;32min\u001b[0m \u001b[0mrange\u001b[0m\u001b[0;34m(\u001b[0m\u001b[0mlayer_output\u001b[0m\u001b[0;34m.\u001b[0m\u001b[0mshape\u001b[0m\u001b[0;34m[\u001b[0m\u001b[0;36m3\u001b[0m\u001b[0;34m]\u001b[0m\u001b[0;34m)\u001b[0m\u001b[0;34m:\u001b[0m\u001b[0;34m\u001b[0m\u001b[0;34m\u001b[0m\u001b[0m\n",
            "\u001b[0;31mKeyError\u001b[0m: 'conv2d_14'"
          ]
        }
      ]
    },
    {
      "cell_type": "code",
      "metadata": {
        "id": "9tvptcn8dxvp",
        "colab_type": "code",
        "colab": {}
      },
      "source": [
        ""
      ],
      "execution_count": 0,
      "outputs": []
    }
  ]
}